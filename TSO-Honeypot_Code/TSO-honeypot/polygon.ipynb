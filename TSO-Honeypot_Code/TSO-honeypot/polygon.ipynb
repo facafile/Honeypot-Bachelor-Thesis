{
 "cells": [
  {
   "cell_type": "code",
   "execution_count": 7,
   "metadata": {},
   "outputs": [
    {
     "name": "stdout",
     "output_type": "stream",
     "text": [
      "['tr', ['td', '0:0'], ['td', `${r.get('remote', 'adapter', '0:0')}`], ['td', `${r.get('remote', 'adapter', '0:0-timestamp')}`]],\n",
      "['tr', ['td', '0:1'], ['td', `${r.get('remote', 'adapter', '0:1')}`], ['td', `${r.get('remote', 'adapter', '0:1-timestamp')}`]],\n",
      "['tr', ['td', '1:0'], ['td', `${r.get('remote', 'adapter', '1:0')}`], ['td', `${r.get('remote', 'adapter', '1:0-timestamp')}`]],\n",
      "['tr', ['td', '1:1'], ['td', `${r.get('remote', 'adapter', '1:1')}`], ['td', `${r.get('remote', 'adapter', '1:1-timestamp')}`]],\n",
      "['tr', ['td', '2:0'], ['td', `${r.get('remote', 'adapter', '2:0')}`], ['td', `${r.get('remote', 'adapter', '2:0-timestamp')}`]],\n",
      "['tr', ['td', '2:1'], ['td', `${r.get('remote', 'adapter', '2:1')}`], ['td', `${r.get('remote', 'adapter', '2:1-timestamp')}`]],\n",
      "['tr', ['td', '3:0'], ['td', `${r.get('remote', 'adapter', '3:0')}`], ['td', `${r.get('remote', 'adapter', '3:0-timestamp')}`]],\n",
      "['tr', ['td', '3:1'], ['td', `${r.get('remote', 'adapter', '3:1')}`], ['td', `${r.get('remote', 'adapter', '3:1-timestamp')}`]],\n",
      "['tr', ['td', '4:0'], ['td', `${r.get('remote', 'adapter', '4:0')}`], ['td', `${r.get('remote', 'adapter', '4:0-timestamp')}`]],\n",
      "['tr', ['td', '4:1'], ['td', `${r.get('remote', 'adapter', '4:1')}`], ['td', `${r.get('remote', 'adapter', '4:1-timestamp')}`]],\n",
      "['tr', ['td', '5:0'], ['td', `${r.get('remote', 'adapter', '5:0')}`], ['td', `${r.get('remote', 'adapter', '5:0-timestamp')}`]],\n",
      "['tr', ['td', '5:1'], ['td', `${r.get('remote', 'adapter', '5:1')}`], ['td', `${r.get('remote', 'adapter', '5:1-timestamp')}`]],\n",
      "['tr', ['td', '6:0'], ['td', `${r.get('remote', 'adapter', '6:0')}`], ['td', `${r.get('remote', 'adapter', '6:0-timestamp')}`]],\n",
      "['tr', ['td', '6:1'], ['td', `${r.get('remote', 'adapter', '6:1')}`], ['td', `${r.get('remote', 'adapter', '6:1-timestamp')}`]],\n"
     ]
    }
   ],
   "source": [
    "import itertools\n",
    "\n",
    "for asdu, io in itertools.product([0, 1, 2, 3, 4, 5, 6], [0, 1]):\n",
    "    print(f\"['tr', ['td', '{asdu}:{io}'], ['td', `${{r.get('remote', 'adapter', '{asdu}:{io}')}}`], ['td', `${{r.get('remote', 'adapter', '{asdu}:{io}-timestamp')}}`]],\")"
   ]
  },
  {
   "cell_type": "code",
   "execution_count": 8,
   "metadata": {},
   "outputs": [
    {
     "name": "stdout",
     "output_type": "stream",
     "text": [
      "['tr', ['td', '10:0'], ['td', `${r.get('remote', 'adapter', '10:0')}`], ['td', `${r.get('remote', 'adapter', '10:0-timestamp')}`]],\n",
      "['tr', ['td', '10:1'], ['td', `${r.get('remote', 'adapter', '10:1')}`], ['td', `${r.get('remote', 'adapter', '10:1-timestamp')}`]],\n",
      "['tr', ['td', '10:2'], ['td', `${r.get('remote', 'adapter', '10:2')}`], ['td', `${r.get('remote', 'adapter', '10:2-timestamp')}`]],\n",
      "['tr', ['td', '10:3'], ['td', `${r.get('remote', 'adapter', '10:3')}`], ['td', `${r.get('remote', 'adapter', '10:3-timestamp')}`]],\n",
      "['tr', ['td', '10:4'], ['td', `${r.get('remote', 'adapter', '10:4')}`], ['td', `${r.get('remote', 'adapter', '10:4-timestamp')}`]],\n",
      "['tr', ['td', '11:0'], ['td', `${r.get('remote', 'adapter', '11:0')}`], ['td', `${r.get('remote', 'adapter', '11:0-timestamp')}`]],\n",
      "['tr', ['td', '11:1'], ['td', `${r.get('remote', 'adapter', '11:1')}`], ['td', `${r.get('remote', 'adapter', '11:1-timestamp')}`]],\n",
      "['tr', ['td', '11:2'], ['td', `${r.get('remote', 'adapter', '11:2')}`], ['td', `${r.get('remote', 'adapter', '11:2-timestamp')}`]],\n",
      "['tr', ['td', '11:3'], ['td', `${r.get('remote', 'adapter', '11:3')}`], ['td', `${r.get('remote', 'adapter', '11:3-timestamp')}`]],\n",
      "['tr', ['td', '11:4'], ['td', `${r.get('remote', 'adapter', '11:4')}`], ['td', `${r.get('remote', 'adapter', '11:4-timestamp')}`]],\n",
      "['tr', ['td', '12:0'], ['td', `${r.get('remote', 'adapter', '12:0')}`], ['td', `${r.get('remote', 'adapter', '12:0-timestamp')}`]],\n",
      "['tr', ['td', '12:1'], ['td', `${r.get('remote', 'adapter', '12:1')}`], ['td', `${r.get('remote', 'adapter', '12:1-timestamp')}`]],\n",
      "['tr', ['td', '12:2'], ['td', `${r.get('remote', 'adapter', '12:2')}`], ['td', `${r.get('remote', 'adapter', '12:2-timestamp')}`]],\n",
      "['tr', ['td', '12:3'], ['td', `${r.get('remote', 'adapter', '12:3')}`], ['td', `${r.get('remote', 'adapter', '12:3-timestamp')}`]],\n",
      "['tr', ['td', '12:4'], ['td', `${r.get('remote', 'adapter', '12:4')}`], ['td', `${r.get('remote', 'adapter', '12:4-timestamp')}`]],\n",
      "['tr', ['td', '13:0'], ['td', `${r.get('remote', 'adapter', '13:0')}`], ['td', `${r.get('remote', 'adapter', '13:0-timestamp')}`]],\n",
      "['tr', ['td', '13:1'], ['td', `${r.get('remote', 'adapter', '13:1')}`], ['td', `${r.get('remote', 'adapter', '13:1-timestamp')}`]],\n",
      "['tr', ['td', '13:2'], ['td', `${r.get('remote', 'adapter', '13:2')}`], ['td', `${r.get('remote', 'adapter', '13:2-timestamp')}`]],\n",
      "['tr', ['td', '13:3'], ['td', `${r.get('remote', 'adapter', '13:3')}`], ['td', `${r.get('remote', 'adapter', '13:3-timestamp')}`]],\n",
      "['tr', ['td', '13:4'], ['td', `${r.get('remote', 'adapter', '13:4')}`], ['td', `${r.get('remote', 'adapter', '13:4-timestamp')}`]],\n",
      "['tr', ['td', '20:0'], ['td', `${r.get('remote', 'adapter', '20:0')}`], ['td', `${r.get('remote', 'adapter', '20:0-timestamp')}`]],\n",
      "['tr', ['td', '20:1'], ['td', `${r.get('remote', 'adapter', '20:1')}`], ['td', `${r.get('remote', 'adapter', '20:1-timestamp')}`]],\n",
      "['tr', ['td', '20:2'], ['td', `${r.get('remote', 'adapter', '20:2')}`], ['td', `${r.get('remote', 'adapter', '20:2-timestamp')}`]],\n",
      "['tr', ['td', '20:3'], ['td', `${r.get('remote', 'adapter', '20:3')}`], ['td', `${r.get('remote', 'adapter', '20:3-timestamp')}`]],\n",
      "['tr', ['td', '20:4'], ['td', `${r.get('remote', 'adapter', '20:4')}`], ['td', `${r.get('remote', 'adapter', '20:4-timestamp')}`]],\n"
     ]
    }
   ],
   "source": [
    "for asdu, io in itertools.product([10, 11, 12, 13, 20], [0, 1, 2, 3, 4]):\n",
    "    print(f\"['tr', ['td', '{asdu}:{io}'], ['td', `${{r.get('remote', 'adapter', '{asdu}:{io}')}}`], ['td', `${{r.get('remote', 'adapter', '{asdu}:{io}-timestamp')}}`]],\")"
   ]
  },
  {
   "cell_type": "code",
   "execution_count": 9,
   "metadata": {},
   "outputs": [
    {
     "name": "stdout",
     "output_type": "stream",
     "text": [
      "['tr', ['td', '30:0'], ['td', `${r.get('remote', 'adapter', '30:0')}`], ['td', `${r.get('remote', 'adapter', '30:0-timestamp')}`]],\n",
      "['tr', ['td', '30:1'], ['td', `${r.get('remote', 'adapter', '30:1')}`], ['td', `${r.get('remote', 'adapter', '30:1-timestamp')}`]],\n",
      "['tr', ['td', '30:2'], ['td', `${r.get('remote', 'adapter', '30:2')}`], ['td', `${r.get('remote', 'adapter', '30:2-timestamp')}`]],\n",
      "['tr', ['td', '30:3'], ['td', `${r.get('remote', 'adapter', '30:3')}`], ['td', `${r.get('remote', 'adapter', '30:3-timestamp')}`]],\n",
      "['tr', ['td', '30:4'], ['td', `${r.get('remote', 'adapter', '30:4')}`], ['td', `${r.get('remote', 'adapter', '30:4-timestamp')}`]],\n",
      "['tr', ['td', '30:5'], ['td', `${r.get('remote', 'adapter', '30:5')}`], ['td', `${r.get('remote', 'adapter', '30:5-timestamp')}`]],\n",
      "['tr', ['td', '30:6'], ['td', `${r.get('remote', 'adapter', '30:6')}`], ['td', `${r.get('remote', 'adapter', '30:6-timestamp')}`]],\n",
      "['tr', ['td', '30:7'], ['td', `${r.get('remote', 'adapter', '30:7')}`], ['td', `${r.get('remote', 'adapter', '30:7-timestamp')}`]],\n"
     ]
    }
   ],
   "source": [
    "for asdu, io in itertools.product([30], [0, 1, 2, 3, 4, 5, 6, 7]):\n",
    "    print(f\"['tr', ['td', '{asdu}:{io}'], ['td', `${{r.get('remote', 'adapter', '{asdu}:{io}')}}`], ['td', `${{r.get('remote', 'adapter', '{asdu}:{io}-timestamp')}}`]],\")"
   ]
  },
  {
   "cell_type": "code",
   "execution_count": null,
   "metadata": {},
   "outputs": [],
   "source": []
  }
 ],
 "metadata": {
  "interpreter": {
   "hash": "949777d72b0d2535278d3dc13498b2535136f6dfe0678499012e853ee9abcab1"
  },
  "kernelspec": {
   "display_name": "Python 3.9.7 64-bit",
   "language": "python",
   "name": "python3"
  },
  "language_info": {
   "codemirror_mode": {
    "name": "ipython",
    "version": 3
   },
   "file_extension": ".py",
   "mimetype": "text/x-python",
   "name": "python",
   "nbconvert_exporter": "python",
   "pygments_lexer": "ipython3",
   "version": "3.10.4"
  },
  "orig_nbformat": 4
 },
 "nbformat": 4,
 "nbformat_minor": 2
}
